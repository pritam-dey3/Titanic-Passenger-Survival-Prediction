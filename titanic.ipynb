{
 "nbformat": 4,
 "nbformat_minor": 2,
 "metadata": {
  "language_info": {
   "name": "python",
   "codemirror_mode": {
    "name": "ipython",
    "version": 3
   },
   "version": "3.7.1-final"
  },
  "orig_nbformat": 2,
  "file_extension": ".py",
  "mimetype": "text/x-python",
  "name": "python",
  "npconvert_exporter": "python",
  "pygments_lexer": "ipython3",
  "version": 3,
  "kernelspec": {
   "name": "python37164bitdbaebdfaa49a421ea1ce67eb13d278b5",
   "display_name": "Python 3.7.1 64-bit"
  }
 },
 "cells": [
  {
   "cell_type": "markdown",
   "metadata": {},
   "source": [
    "# Titanic data\n",
    "### getting started with kaggle"
   ]
  },
  {
   "cell_type": "code",
   "execution_count": 3,
   "metadata": {},
   "outputs": [
    {
     "output_type": "execute_result",
     "data": {
      "text/plain": "   PassengerId  Pclass                                               Name  \\\n0            1       3                            Braund, Mr. Owen Harris   \n1            2       1  Cumings, Mrs. John Bradley (Florence Briggs Th...   \n2            3       3                             Heikkinen, Miss. Laina   \n3            4       1       Futrelle, Mrs. Jacques Heath (Lily May Peel)   \n4            5       3                           Allen, Mr. William Henry   \n\n      Sex   Age  SibSp  Parch            Ticket     Fare Cabin Embarked  \n0    male  22.0      1      0         A/5 21171   7.2500   NaN        S  \n1  female  38.0      1      0          PC 17599  71.2833   C85        C  \n2  female  26.0      0      0  STON/O2. 3101282   7.9250   NaN        S  \n3  female  35.0      1      0            113803  53.1000  C123        S  \n4    male  35.0      0      0            373450   8.0500   NaN        S  ",
      "text/html": "<div>\n<style scoped>\n    .dataframe tbody tr th:only-of-type {\n        vertical-align: middle;\n    }\n\n    .dataframe tbody tr th {\n        vertical-align: top;\n    }\n\n    .dataframe thead th {\n        text-align: right;\n    }\n</style>\n<table border=\"1\" class=\"dataframe\">\n  <thead>\n    <tr style=\"text-align: right;\">\n      <th></th>\n      <th>PassengerId</th>\n      <th>Pclass</th>\n      <th>Name</th>\n      <th>Sex</th>\n      <th>Age</th>\n      <th>SibSp</th>\n      <th>Parch</th>\n      <th>Ticket</th>\n      <th>Fare</th>\n      <th>Cabin</th>\n      <th>Embarked</th>\n    </tr>\n  </thead>\n  <tbody>\n    <tr>\n      <th>0</th>\n      <td>1</td>\n      <td>3</td>\n      <td>Braund, Mr. Owen Harris</td>\n      <td>male</td>\n      <td>22.0</td>\n      <td>1</td>\n      <td>0</td>\n      <td>A/5 21171</td>\n      <td>7.2500</td>\n      <td>NaN</td>\n      <td>S</td>\n    </tr>\n    <tr>\n      <th>1</th>\n      <td>2</td>\n      <td>1</td>\n      <td>Cumings, Mrs. John Bradley (Florence Briggs Th...</td>\n      <td>female</td>\n      <td>38.0</td>\n      <td>1</td>\n      <td>0</td>\n      <td>PC 17599</td>\n      <td>71.2833</td>\n      <td>C85</td>\n      <td>C</td>\n    </tr>\n    <tr>\n      <th>2</th>\n      <td>3</td>\n      <td>3</td>\n      <td>Heikkinen, Miss. Laina</td>\n      <td>female</td>\n      <td>26.0</td>\n      <td>0</td>\n      <td>0</td>\n      <td>STON/O2. 3101282</td>\n      <td>7.9250</td>\n      <td>NaN</td>\n      <td>S</td>\n    </tr>\n    <tr>\n      <th>3</th>\n      <td>4</td>\n      <td>1</td>\n      <td>Futrelle, Mrs. Jacques Heath (Lily May Peel)</td>\n      <td>female</td>\n      <td>35.0</td>\n      <td>1</td>\n      <td>0</td>\n      <td>113803</td>\n      <td>53.1000</td>\n      <td>C123</td>\n      <td>S</td>\n    </tr>\n    <tr>\n      <th>4</th>\n      <td>5</td>\n      <td>3</td>\n      <td>Allen, Mr. William Henry</td>\n      <td>male</td>\n      <td>35.0</td>\n      <td>0</td>\n      <td>0</td>\n      <td>373450</td>\n      <td>8.0500</td>\n      <td>NaN</td>\n      <td>S</td>\n    </tr>\n  </tbody>\n</table>\n</div>"
     },
     "metadata": {},
     "execution_count": 3
    }
   ],
   "source": [
    "#load data\n",
    "import pandas as pd\n",
    "import numpy as np\n",
    "\n",
    "data_dir = 'data/'\n",
    "\n",
    "data = pd.read_csv(data_dir + 'train.csv')\n",
    "labels = data['Survived']\n",
    "data = data.drop('Survived', axis=1)\n",
    "data.head()"
   ]
  },
  {
   "cell_type": "code",
   "execution_count": 57,
   "metadata": {},
   "outputs": [
    {
     "output_type": "stream",
     "name": "stdout",
     "text": "['drp__Pclass', 'drp__Sex', 'drp__Age', 'drp__SibSp', 'drp__Parch', 'drp__Fare', 'cabin_imp__Cabin', 'Emb_imp__Embarked']\n"
    },
    {
     "output_type": "execute_result",
     "data": {
      "text/plain": "   0       1   2  3  4        5  6  7\n0  3    male  22  1  0     7.25  Z  S\n1  1  female  38  1  0  71.2833  C  C\n2  3  female  26  0  0    7.925  Z  S\n3  1  female  35  1  0     53.1  C  S\n4  3    male  35  0  0     8.05  Z  S",
      "text/html": "<div>\n<style scoped>\n    .dataframe tbody tr th:only-of-type {\n        vertical-align: middle;\n    }\n\n    .dataframe tbody tr th {\n        vertical-align: top;\n    }\n\n    .dataframe thead th {\n        text-align: right;\n    }\n</style>\n<table border=\"1\" class=\"dataframe\">\n  <thead>\n    <tr style=\"text-align: right;\">\n      <th></th>\n      <th>0</th>\n      <th>1</th>\n      <th>2</th>\n      <th>3</th>\n      <th>4</th>\n      <th>5</th>\n      <th>6</th>\n      <th>7</th>\n    </tr>\n  </thead>\n  <tbody>\n    <tr>\n      <th>0</th>\n      <td>3</td>\n      <td>male</td>\n      <td>22</td>\n      <td>1</td>\n      <td>0</td>\n      <td>7.25</td>\n      <td>Z</td>\n      <td>S</td>\n    </tr>\n    <tr>\n      <th>1</th>\n      <td>1</td>\n      <td>female</td>\n      <td>38</td>\n      <td>1</td>\n      <td>0</td>\n      <td>71.2833</td>\n      <td>C</td>\n      <td>C</td>\n    </tr>\n    <tr>\n      <th>2</th>\n      <td>3</td>\n      <td>female</td>\n      <td>26</td>\n      <td>0</td>\n      <td>0</td>\n      <td>7.925</td>\n      <td>Z</td>\n      <td>S</td>\n    </tr>\n    <tr>\n      <th>3</th>\n      <td>1</td>\n      <td>female</td>\n      <td>35</td>\n      <td>1</td>\n      <td>0</td>\n      <td>53.1</td>\n      <td>C</td>\n      <td>S</td>\n    </tr>\n    <tr>\n      <th>4</th>\n      <td>3</td>\n      <td>male</td>\n      <td>35</td>\n      <td>0</td>\n      <td>0</td>\n      <td>8.05</td>\n      <td>Z</td>\n      <td>S</td>\n    </tr>\n  </tbody>\n</table>\n</div>"
     },
     "metadata": {},
     "execution_count": 57
    }
   ],
   "source": [
    "print(imputer_1.get_feature_names())\n",
    "pd.DataFrame(X[0:6, :]).head()"
   ]
  },
  {
   "cell_type": "code",
   "execution_count": 5,
   "metadata": {},
   "outputs": [
    {
     "output_type": "stream",
     "name": "stdout",
     "text": "(891, 12)\nIndex(['PassengerId', 'Survived', 'Pclass', 'Name', 'Sex', 'Age', 'SibSp',\n       'Parch', 'Ticket', 'Fare', 'Cabin', 'Embarked'],\n      dtype='object')\n"
    }
   ],
   "source": [
    "print(data.shape)\n",
    "print(data.columns)"
   ]
  },
  {
   "cell_type": "markdown",
   "metadata": {},
   "source": [
    "**Pclass** : ticket class <br>\n",
    "**SibSp** : # sibling or spouse aboard <br>\n",
    "**Parch** : # parents or children aboard <br>\n",
    "**Embark** : Port"
   ]
  },
  {
   "cell_type": "code",
   "execution_count": 9,
   "metadata": {},
   "outputs": [
    {
     "output_type": "execute_result",
     "data": {
      "text/plain": "(12, 12)"
     },
     "metadata": {},
     "execution_count": 9
    }
   ],
   "source": [
    "# check the cabin data null values\n",
    "data[(data.Pclass == 3) & (~data.Cabin.isnull())].shape"
   ]
  },
  {
   "cell_type": "code",
   "execution_count": 14,
   "metadata": {},
   "outputs": [
    {
     "output_type": "execute_result",
     "data": {
      "text/plain": "['Age', 'Cabin', 'Embarked']"
     },
     "metadata": {},
     "execution_count": 14
    }
   ],
   "source": [
    "# check which columns contain nan values\n",
    "def findNaNCol(data):\n",
    "    nancols = []\n",
    "    for column in data.columns:\n",
    "        if data[column].isnull().any():\n",
    "            nancols.append(column)\n",
    "    return nancols\n",
    "\n",
    "nancols = findNaNCol(data)\n",
    "nancols"
   ]
  },
  {
   "cell_type": "code",
   "execution_count": 16,
   "metadata": {},
   "outputs": [
    {
     "output_type": "execute_result",
     "data": {
      "text/plain": "['Age', 'Fare', 'Cabin']"
     },
     "metadata": {},
     "execution_count": 16
    }
   ],
   "source": [
    "# check if test data also contains same columns\n",
    "test_data = pd.read_csv(data_dir + 'test.csv')\n",
    "findNaNCol(test_data)"
   ]
  },
  {
   "cell_type": "markdown",
   "metadata": {},
   "source": [
    "### Note:\n",
    "We need to find ways to impute 'Age' and 'Fare' <br>\n",
    "I dont think 'Embarked' is at all important <br>\n",
    "'Cabin' can be converted into categorical (? maybe? need to check)"
   ]
  },
  {
   "cell_type": "code",
   "execution_count": 17,
   "metadata": {},
   "outputs": [
    {
     "output_type": "stream",
     "name": "stdout",
     "text": "[3 2 1]\n"
    }
   ],
   "source": [
    "# if there is any Pclass that has non null values of cabin\n",
    "print(data.Pclass[data.Cabin.isnull()].unique())"
   ]
  },
  {
   "cell_type": "code",
   "execution_count": 23,
   "metadata": {},
   "outputs": [
    {
     "output_type": "stream",
     "name": "stdout",
     "text": "unique_cabin : (148,)\ntotal_Cabin_nan : 687\n"
    }
   ],
   "source": [
    "print(f'unique_cabin : {data.Cabin.unique().shape}\\ntotal_Cabin_nan : {sum(data.Cabin.isnull())}')"
   ]
  },
  {
   "cell_type": "markdown",
   "metadata": {},
   "source": [
    "### Note2:\n",
    "After imputing 'Age' and 'Fare', the list of explanatory variables becomes <br>\n",
    "{id, Pclass, sex, age, sibsp, parch, fare, cabin}\n",
    "\n",
    "using sibsp and parch can be tricky, maybe i need to form separate model for those, to provide probability of surviving, when you have extra family member"
   ]
  },
  {
   "cell_type": "markdown",
   "metadata": {},
   "source": [
    "### Note3:\n",
    "I think number of siblings or parents/children can defintely tell something about the age group of a person. The remaining variables that make a little to no sense are {Pclass, sex, Fare}"
   ]
  },
  {
   "cell_type": "markdown",
   "metadata": {},
   "source": [
    "# Create Pipelines\n",
    "\n",
    "-- Drop Name, Ticket + add fam_n_frnd ;; Impute, categorize Cabin and Embarked <br>\n",
    "-- One hot encode Cabin, Embarked, Sex, Pclass <br>\n",
    "-- Create ordinal fare group {note that we can only break the data in training set}<br>\n",
    "-- Impute ordinal fare {transformation will be tricky as it contains NaN values}<br>\n",
    "-- impute Age <br>\n",
    "====== thus cleaning is done\n",
    "-- finally fit xgboost, svm and knn and use hard voting"
   ]
  },
  {
   "cell_type": "code",
   "execution_count": 4,
   "metadata": {},
   "outputs": [
    {
     "output_type": "execute_result",
     "data": {
      "text/plain": "  ohe__x0_1 ohe__x0_2 ohe__x0_3 ohe__x1_female ohe__x1_male ohe__x2_A  \\\n0         0         0         1              0            1         0   \n1         1         0         0              1            0         0   \n2         0         0         1              1            0         0   \n3         1         0         0              1            0         0   \n4         0         0         1              0            1         0   \n\n  ohe__x2_B ohe__x2_C ohe__x2_D ohe__x2_E  ... ohe__x2_G ohe__x2_T ohe__x2_Z  \\\n0         0         0         0         0  ...         0         0         1   \n1         0         1         0         0  ...         0         0         0   \n2         0         0         0         0  ...         0         0         1   \n3         0         1         0         0  ...         0         0         0   \n4         0         0         0         0  ...         0         0         1   \n\n  ohe__x3_C ohe__x3_Q ohe__x3_S don__Age don__SibSp don__Parch farecut__Fare  \n0         0         0         1       22          1          0             1  \n1         1         0         0       38          1          0             3  \n2         0         0         1       26          0          0             1  \n3         0         0         1       35          1          0             3  \n4         0         0         1       35          0          0             1  \n\n[5 rows x 21 columns]",
      "text/html": "<div>\n<style scoped>\n    .dataframe tbody tr th:only-of-type {\n        vertical-align: middle;\n    }\n\n    .dataframe tbody tr th {\n        vertical-align: top;\n    }\n\n    .dataframe thead th {\n        text-align: right;\n    }\n</style>\n<table border=\"1\" class=\"dataframe\">\n  <thead>\n    <tr style=\"text-align: right;\">\n      <th></th>\n      <th>ohe__x0_1</th>\n      <th>ohe__x0_2</th>\n      <th>ohe__x0_3</th>\n      <th>ohe__x1_female</th>\n      <th>ohe__x1_male</th>\n      <th>ohe__x2_A</th>\n      <th>ohe__x2_B</th>\n      <th>ohe__x2_C</th>\n      <th>ohe__x2_D</th>\n      <th>ohe__x2_E</th>\n      <th>...</th>\n      <th>ohe__x2_G</th>\n      <th>ohe__x2_T</th>\n      <th>ohe__x2_Z</th>\n      <th>ohe__x3_C</th>\n      <th>ohe__x3_Q</th>\n      <th>ohe__x3_S</th>\n      <th>don__Age</th>\n      <th>don__SibSp</th>\n      <th>don__Parch</th>\n      <th>farecut__Fare</th>\n    </tr>\n  </thead>\n  <tbody>\n    <tr>\n      <th>0</th>\n      <td>0</td>\n      <td>0</td>\n      <td>1</td>\n      <td>0</td>\n      <td>1</td>\n      <td>0</td>\n      <td>0</td>\n      <td>0</td>\n      <td>0</td>\n      <td>0</td>\n      <td>...</td>\n      <td>0</td>\n      <td>0</td>\n      <td>1</td>\n      <td>0</td>\n      <td>0</td>\n      <td>1</td>\n      <td>22</td>\n      <td>1</td>\n      <td>0</td>\n      <td>1</td>\n    </tr>\n    <tr>\n      <th>1</th>\n      <td>1</td>\n      <td>0</td>\n      <td>0</td>\n      <td>1</td>\n      <td>0</td>\n      <td>0</td>\n      <td>0</td>\n      <td>1</td>\n      <td>0</td>\n      <td>0</td>\n      <td>...</td>\n      <td>0</td>\n      <td>0</td>\n      <td>0</td>\n      <td>1</td>\n      <td>0</td>\n      <td>0</td>\n      <td>38</td>\n      <td>1</td>\n      <td>0</td>\n      <td>3</td>\n    </tr>\n    <tr>\n      <th>2</th>\n      <td>0</td>\n      <td>0</td>\n      <td>1</td>\n      <td>1</td>\n      <td>0</td>\n      <td>0</td>\n      <td>0</td>\n      <td>0</td>\n      <td>0</td>\n      <td>0</td>\n      <td>...</td>\n      <td>0</td>\n      <td>0</td>\n      <td>1</td>\n      <td>0</td>\n      <td>0</td>\n      <td>1</td>\n      <td>26</td>\n      <td>0</td>\n      <td>0</td>\n      <td>1</td>\n    </tr>\n    <tr>\n      <th>3</th>\n      <td>1</td>\n      <td>0</td>\n      <td>0</td>\n      <td>1</td>\n      <td>0</td>\n      <td>0</td>\n      <td>0</td>\n      <td>1</td>\n      <td>0</td>\n      <td>0</td>\n      <td>...</td>\n      <td>0</td>\n      <td>0</td>\n      <td>0</td>\n      <td>0</td>\n      <td>0</td>\n      <td>1</td>\n      <td>35</td>\n      <td>1</td>\n      <td>0</td>\n      <td>3</td>\n    </tr>\n    <tr>\n      <th>4</th>\n      <td>0</td>\n      <td>0</td>\n      <td>1</td>\n      <td>0</td>\n      <td>1</td>\n      <td>0</td>\n      <td>0</td>\n      <td>0</td>\n      <td>0</td>\n      <td>0</td>\n      <td>...</td>\n      <td>0</td>\n      <td>0</td>\n      <td>1</td>\n      <td>0</td>\n      <td>0</td>\n      <td>1</td>\n      <td>35</td>\n      <td>0</td>\n      <td>0</td>\n      <td>1</td>\n    </tr>\n  </tbody>\n</table>\n<p>5 rows × 21 columns</p>\n</div>"
     },
     "metadata": {},
     "execution_count": 4
    }
   ],
   "source": [
    "from sklearn.pipeline import Pipeline\n",
    "from sklearn.preprocessing import StandardScaler, OrdinalEncoder, OneHotEncoder\n",
    "from sklearn.impute import SimpleImputer\n",
    "from sklearn.base import BaseEstimator, TransformerMixin\n",
    "from sklearn.compose import ColumnTransformer\n",
    "import re\n",
    "\n",
    "class CabinImputer(BaseEstimator, TransformerMixin):\n",
    "    def __init__(self, imp='Z'):\n",
    "        self.imp = imp\n",
    "        pat = re.compile(r'^[A-Z]')\n",
    "        self.categorizer = np.vectorize(lambda x: pat.match(x).group())\n",
    "    def fit(self, X=None, y=None):\n",
    "        self.imputer = SimpleImputer(missing_values=np.NaN, strategy='constant', fill_value=self.imp)\n",
    "        return self \n",
    "    def transform(self, X):\n",
    "        X = self.imputer.fit_transform(X)\n",
    "        X[:, 0] = self.categorizer(X[:, 0])\n",
    "        return X\n",
    "    def get_feature_names(self):\n",
    "        return np.array(['Cabin'])\n",
    "    def get_params(self, deep=True):\n",
    "        return {'imp': self.imp}\n",
    "\n",
    "class ModeImputer(SimpleImputer):\n",
    "    def get_feature_names(self):\n",
    "        return np.array(['Embarked'])\n",
    "\n",
    "class DropColumns(BaseEstimator, TransformerMixin):\n",
    "    def __init__(self, drop_ix=[0, 2, 7], features=[]):\n",
    "        self.drop_list = drop_ix\n",
    "        self.features = features\n",
    "    def fit(self, X=None, y=None):\n",
    "        self.drops = self.drop_list\n",
    "        return self\n",
    "    def transform(self, X):\n",
    "        if isinstance(X, pd.DataFrame):\n",
    "            X = X.to_numpy()\n",
    "        return np.delete(X, self.drops, axis=1)\n",
    "    def get_feature_names(self):\n",
    "        return np.delete(np.array(self.features), self.drop_list, axis=0)\n",
    "    def get_params(self, deep=True):\n",
    "        return {'drop_ix': self.drop_list, 'features': self.features}\n",
    "\n",
    "class DoNothing(BaseEstimator, TransformerMixin):\n",
    "    def __init__(self, features=['Age', 'SibSp', 'Parch']):\n",
    "        self.features = features\n",
    "    def fit(self, X=None, y=None):\n",
    "        self.feature_len = X.shape[1]\n",
    "        return self\n",
    "    def transform(self, X):\n",
    "        return X\n",
    "    def get_params(self, deep=True):\n",
    "        return {'features': self.features}\n",
    "    def get_feature_names(self):\n",
    "        return self.features\n",
    "\n",
    "class FareCat(BaseEstimator, TransformerMixin):\n",
    "    \"\"\" This assumes that no value is missing in Fare column \"\"\"\n",
    "    def __init__(self):\n",
    "        self.imputing_model = None\n",
    "    def fit(self, X=None, y=None):\n",
    "        return self\n",
    "    def transform(self, X):\n",
    "        X = pd.Series(X[:, 0])\n",
    "        X = pd.cut(X, [-1, 0.1, 10, 30, 100, 200, np.inf], labels=np.arange(0, 6))\n",
    "        return np.reshape(X.to_numpy(), (-1, 1))\n",
    "    def get_feature_names(self, deep=True):\n",
    "        return ['Fare']\n",
    "\n",
    "\n",
    "cols = data.columns.drop(['Cabin', 'Embarked'])\n",
    "imputer_1 = ColumnTransformer([\n",
    "    ('drp', DropColumns(drop_ix=[0, 2, 7], features=cols), cols),\n",
    "    ('cabin_imp', CabinImputer(), ['Cabin']),\n",
    "    ('Emb_imp', ModeImputer(strategy='most_frequent'), ['Embarked'])\n",
    "])\n",
    "\n",
    "ohe_cols = [0, 1, 6, 7]\n",
    "nthn_cols = [2, 3, 4]\n",
    "imputer_2 = ColumnTransformer([\n",
    "    ('ohe', OneHotEncoder(), ohe_cols),\n",
    "    ('don', DoNothing(), nthn_cols),\n",
    "    ('farecut', FareCat(), [5])\n",
    "])\n",
    "\n",
    "#trying to keep indexing clean as much as possible\n",
    "Pclass_ix = np.s_[:, 0:3]\n",
    "Sex_ix = np.s_[:, 3:5]\n",
    "Cabin_ix = np.s_[:, 5:14]\n",
    "Embarked_ix = np.s_[:, 14:17]\n",
    "Age_ix = np.s_[:, 17]\n",
    "SibSp_ix = np.s_[:, 18]\n",
    "Parch_ix = np.s_[:, 19]\n",
    "Fare_ix = np.s_[:, 20]\n",
    "\n",
    "\n",
    "model_pipeline = Pipeline([\n",
    "    ('imp1', imputer_1),\n",
    "    ('imp2', imputer_2),\n",
    "])\n",
    "\n",
    "X = model_pipeline.fit_transform(data)\n",
    "X = pd.DataFrame(X)\n",
    "X.columns = imputer_2.get_feature_names()\n",
    "X.head()\n",
    "\n"
   ]
  },
  {
   "cell_type": "code",
   "execution_count": 34,
   "metadata": {},
   "outputs": [],
   "source": [
    "X.to_csv(data_dir + 'halfclean.csv')\n",
    ""
   ]
  },
  {
   "cell_type": "code",
   "execution_count": 6,
   "metadata": {},
   "outputs": [
    {
     "output_type": "execute_result",
     "data": {
      "text/plain": "0      1\n1      3\n2      1\n3      3\n4      1\n      ..\n886    2\n887    2\n888    2\n889    2\n890    1\nName: farecut__Fare, Length: 891, dtype: object"
     },
     "metadata": {},
     "execution_count": 6
    }
   ],
   "source": [
    "X.iloc[Fare_ix]"
   ]
  },
  {
   "cell_type": "code",
   "execution_count": null,
   "metadata": {},
   "outputs": [],
   "source": []
  }
 ]
}